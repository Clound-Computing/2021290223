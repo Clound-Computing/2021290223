{
 "cells": [
  {
   "cell_type": "code",
   "execution_count": 48,
   "metadata": {},
   "outputs": [],
   "source": [
    "import numpy as np\n",
    "import pandas as pd\n",
    "import json\n",
    "from datetime import datetime"
   ]
  },
  {
   "cell_type": "code",
   "execution_count": 49,
   "metadata": {},
   "outputs": [
    {
     "name": "stdout",
     "output_type": "stream",
     "text": [
      "Index(['url', 'text', 'images', 'top_img', 'keywords', 'authors',\n",
      "       'canonical_link', 'title', 'meta_data', 'movies', 'publish_date',\n",
      "       'source', 'summary', 'id', 'label', 'has_top_img'],\n",
      "      dtype='object')\n"
     ]
    }
   ],
   "source": [
    "with open('gossipcop_v3_origin.json', 'r',encoding='utf-8') as f:\n",
    "    data_origin = json.load(f)\n",
    "\n",
    "df_origin=pd.DataFrame(data_origin).T\n",
    "print(df_origin.columns)"
   ]
  },
  {
   "cell_type": "code",
   "execution_count": 50,
   "metadata": {},
   "outputs": [],
   "source": [
    "with open('gossipcop_v3-1_style_based_fake.json', 'r',encoding='utf-8') as f:\n",
    "    data_style1 = json.load(f)\n",
    "\n",
    "with open('gossipcop_v3-2_content_based_fake.json', 'r',encoding='utf-8') as f:\n",
    "    data_content = json.load(f)\n",
    "\n",
    "with open('gossipcop_v3-4_story_based_fake.json', 'r',encoding='utf-8') as f:\n",
    "    data_story = json.load(f)\n",
    "\n",
    "with open('gossipcop_v3-5_style_based_legitimate.json', 'r',encoding='utf-8') as f:\n",
    "    data_style2 = json.load(f)\n",
    "\n",
    "df_style1=pd.DataFrame(data_style1).T\n",
    "df_content=pd.DataFrame(data_content).T\n",
    "df_story=pd.DataFrame(data_story).T\n",
    "df_style2=pd.DataFrame(data_style2).T\n",
    "\n"
   ]
  },
  {
   "cell_type": "code",
   "execution_count": 35,
   "metadata": {},
   "outputs": [
    {
     "name": "stdout",
     "output_type": "stream",
     "text": [
      "Index(['origin_id', 'origin_label', 'origin_text', 'generated_text',\n",
      "       'generated_tone', 'generated_label', 'has_top_img'],\n",
      "      dtype='object')\n"
     ]
    }
   ],
   "source": [
    "print(df_style1.columns)\n",
    "time_list=[]\n",
    "for i in df_style1.index:\n",
    "    id = df_style1.loc[i,'origin_id']\n",
    "    time = df_origin[df_origin['id']==id]['publish_date'].iloc[0]\n",
    "    time_list.append(time)\n",
    "df_style1['time']=time_list\n"
   ]
  },
  {
   "cell_type": "code",
   "execution_count": 36,
   "metadata": {},
   "outputs": [],
   "source": [
    "time_list=[]\n",
    "for i in df_style2.index:\n",
    "    id = df_style2.loc[i,'origin_id']\n",
    "    time = df_origin[df_origin['id']==id]['publish_date'].iloc[0]\n",
    "    time_list.append(time)\n",
    "df_style2['time']=time_list"
   ]
  },
  {
   "cell_type": "code",
   "execution_count": 51,
   "metadata": {},
   "outputs": [],
   "source": [
    "time_list=[]\n",
    "for i in df_content.index:\n",
    "    id = df_content.loc[i,'origin_id']\n",
    "    time = df_origin[df_origin['id']==id]['publish_date'].iloc[0]\n",
    "    time_list.append(time)\n",
    "df_content['time']=time_list"
   ]
  },
  {
   "cell_type": "code",
   "execution_count": 38,
   "metadata": {},
   "outputs": [],
   "source": [
    "time_list=[]\n",
    "for i in df_story.index:\n",
    "    id = df_story.loc[i,'origin_id']\n",
    "    time = df_origin[df_origin['id']==id]['publish_date'].iloc[0]\n",
    "    time_list.append(time)\n",
    "df_story['time']=time_list"
   ]
  },
  {
   "cell_type": "code",
   "execution_count": 52,
   "metadata": {},
   "outputs": [
    {
     "ename": "KeyError",
     "evalue": "['time']",
     "output_type": "error",
     "traceback": [
      "\u001b[1;31m---------------------------------------------------------------------------\u001b[0m",
      "\u001b[1;31mKeyError\u001b[0m                                  Traceback (most recent call last)",
      "Cell \u001b[1;32mIn[52], line 1\u001b[0m\n\u001b[1;32m----> 1\u001b[0m df_style1\u001b[38;5;241m=\u001b[39m\u001b[43mdf_style1\u001b[49m\u001b[38;5;241;43m.\u001b[39;49m\u001b[43mdropna\u001b[49m\u001b[43m(\u001b[49m\u001b[43msubset\u001b[49m\u001b[38;5;241;43m=\u001b[39;49m\u001b[38;5;124;43m'\u001b[39;49m\u001b[38;5;124;43mtime\u001b[39;49m\u001b[38;5;124;43m'\u001b[39;49m\u001b[43m)\u001b[49m\n\u001b[0;32m      2\u001b[0m df_content\u001b[38;5;241m=\u001b[39mdf_content\u001b[38;5;241m.\u001b[39mdropna(subset\u001b[38;5;241m=\u001b[39m\u001b[38;5;124m'\u001b[39m\u001b[38;5;124mtime\u001b[39m\u001b[38;5;124m'\u001b[39m)\n\u001b[0;32m      3\u001b[0m df_story\u001b[38;5;241m=\u001b[39mdf_story\u001b[38;5;241m.\u001b[39mdropna(subset\u001b[38;5;241m=\u001b[39m\u001b[38;5;124m'\u001b[39m\u001b[38;5;124mtime\u001b[39m\u001b[38;5;124m'\u001b[39m)\n",
      "File \u001b[1;32md:\\software\\Lib\\site-packages\\pandas\\core\\frame.py:6421\u001b[0m, in \u001b[0;36mDataFrame.dropna\u001b[1;34m(self, axis, how, thresh, subset, inplace, ignore_index)\u001b[0m\n\u001b[0;32m   6419\u001b[0m     check \u001b[38;5;241m=\u001b[39m indices \u001b[38;5;241m==\u001b[39m \u001b[38;5;241m-\u001b[39m\u001b[38;5;241m1\u001b[39m\n\u001b[0;32m   6420\u001b[0m     \u001b[38;5;28;01mif\u001b[39;00m check\u001b[38;5;241m.\u001b[39many():\n\u001b[1;32m-> 6421\u001b[0m         \u001b[38;5;28;01mraise\u001b[39;00m \u001b[38;5;167;01mKeyError\u001b[39;00m(np\u001b[38;5;241m.\u001b[39marray(subset)[check]\u001b[38;5;241m.\u001b[39mtolist())\n\u001b[0;32m   6422\u001b[0m     agg_obj \u001b[38;5;241m=\u001b[39m \u001b[38;5;28mself\u001b[39m\u001b[38;5;241m.\u001b[39mtake(indices, axis\u001b[38;5;241m=\u001b[39magg_axis)\n\u001b[0;32m   6424\u001b[0m \u001b[38;5;28;01mif\u001b[39;00m thresh \u001b[38;5;129;01mis\u001b[39;00m \u001b[38;5;129;01mnot\u001b[39;00m lib\u001b[38;5;241m.\u001b[39mno_default:\n",
      "\u001b[1;31mKeyError\u001b[0m: ['time']"
     ]
    }
   ],
   "source": [
    "df_style1=df_style1.dropna(subset='time')\n",
    "df_content=df_content.dropna(subset='time')\n",
    "df_story=df_story.dropna(subset='time')\n",
    "df_style2=df_style2.dropna(subset='time')"
   ]
  },
  {
   "cell_type": "code",
   "execution_count": 53,
   "metadata": {},
   "outputs": [],
   "source": [
    "df_content=df_content.dropna(subset='time')"
   ]
  },
  {
   "cell_type": "code",
   "execution_count": 54,
   "metadata": {},
   "outputs": [
    {
     "name": "stdout",
     "output_type": "stream",
     "text": [
      "                         origin_id origin_label  \\\n",
      "gossipcop-875924  gossipcop-875924   legitimate   \n",
      "gossipcop-857248  gossipcop-857248   legitimate   \n",
      "gossipcop-884684  gossipcop-884684   legitimate   \n",
      "gossipcop-848092  gossipcop-848092   legitimate   \n",
      "gossipcop-926957  gossipcop-926957   legitimate   \n",
      "...                            ...          ...   \n",
      "gossipcop-889584  gossipcop-889584   legitimate   \n",
      "gossipcop-907293  gossipcop-907293   legitimate   \n",
      "gossipcop-891749  gossipcop-891749   legitimate   \n",
      "gossipcop-941486  gossipcop-941486   legitimate   \n",
      "gossipcop-877062  gossipcop-877062   legitimate   \n",
      "\n",
      "                                                        origin_text  \\\n",
      "gossipcop-875924  Kylie Jenner reportedly doesn't want to talk a...   \n",
      "gossipcop-857248  From there, you transition to the leg press ma...   \n",
      "gossipcop-884684  CNN —\\n\\nAn emotional Celine Dion returned to ...   \n",
      "gossipcop-848092  I’m sorry, Aunt Lydia, but The Handmaid’s Tale...   \n",
      "gossipcop-926957  Guess what show is back? If you guessed Game o...   \n",
      "...                                                             ...   \n",
      "gossipcop-889584  Lovatics will get the chance to tell Demi Lova...   \n",
      "gossipcop-907293  Gigi & Zayn Gave Us the Best Idea For a Valent...   \n",
      "gossipcop-891749  2017 Hollywood Film Awards ceremony took place...   \n",
      "gossipcop-941486  Jada Pinkett Smith recalled that heartbreaking...   \n",
      "gossipcop-877062  After last week's shock announcement that Kyli...   \n",
      "\n",
      "                                                generated_text_glm4  \\\n",
      "gossipcop-875924  Kylie Jenner is said to avoid discussing her r...   \n",
      "gossipcop-857248  Upon advancing to the leg extension equipment,...   \n",
      "gossipcop-884684  [CNN —\\n\\nIn a poignant move, Celine Dion resu...   \n",
      "gossipcop-848092  [It's confirmed, Uncle Leo, The Century's Stor...   \n",
      "gossipcop-926957  Guess which series is making a return? If you ...   \n",
      "...                                                             ...   \n",
      "gossipcop-889584  Fans will have the opportunity to express thei...   \n",
      "gossipcop-907293  [Gigi & Zayn Suggest a Creative Valentine’s Da...   \n",
      "gossipcop-891749  The 2018 Hollywood Film Awards were conducted ...   \n",
      "gossipcop-941486  [Jada Pinkett Smith reminisced about the emoti...   \n",
      "gossipcop-877062  [Following last month's surprising revelation ...   \n",
      "\n",
      "                 has_top_img          time  \n",
      "gossipcop-875924           0  1.499290e+09  \n",
      "gossipcop-857248           0  1.521389e+09  \n",
      "gossipcop-884684           0  1.507046e+09  \n",
      "gossipcop-848092           0  1.525190e+09  \n",
      "gossipcop-926957           0  1.528646e+09  \n",
      "...                      ...           ...  \n",
      "gossipcop-889584           0  1.509047e+09  \n",
      "gossipcop-907293           0  1.485441e+09  \n",
      "gossipcop-891749           0  1.509974e+09  \n",
      "gossipcop-941486           0  1.528042e+09  \n",
      "gossipcop-877062           0  1.518258e+09  \n",
      "\n",
      "[7771 rows x 6 columns]\n"
     ]
    }
   ],
   "source": [
    "print(df_content)"
   ]
  },
  {
   "cell_type": "code",
   "execution_count": 40,
   "metadata": {},
   "outputs": [],
   "source": [
    "year_list=[]\n",
    "month_list=[]\n",
    "day_list=[]\n",
    "season_list=[]\n",
    "year_month_list=[]\n",
    "year_season_list=[]\n",
    "for i in df_style1.index:\n",
    "    timestamp = df_style1.loc[i,'time']\n",
    "    date=datetime.fromtimestamp(timestamp)\n",
    "    year_list.append(date.year)\n",
    "    month_list.append(date.month)\n",
    "    if date.month>=10:\n",
    "        year_month=str(date.year)+'-'+str(date.month)\n",
    "    elif 1<=date.month<10:\n",
    "        year_month=str(date.year)+'-'+'0'+str(date.month)\n",
    "    year_month_list.append(year_month)\n",
    "    day_list.append(date.day)\n",
    "    if 3<=date.month<=5:\n",
    "        season=1\n",
    "        year_season=str(date.year)+\"-\"+'0'+str(season)\n",
    "        season_list.append(season)\n",
    "        year_season_list.append(year_season)\n",
    "    elif 6<=date.month<=8:\n",
    "        season=2\n",
    "        year_season=str(date.year)+\"-\"+'0'+str(season)\n",
    "        season_list.append(season)\n",
    "        year_season_list.append(year_season)\n",
    "    elif 9<=date.month<=11:\n",
    "        season=3\n",
    "        year_season=str(date.year)+\"-\"+'0'+str(season)\n",
    "        season_list.append(season)\n",
    "        year_season_list.append(year_season)\n",
    "    elif date.month==12 or date.month==1 or date.month==2:\n",
    "        season=4\n",
    "        year_season=str(date.year)+\"-\"+'0'+str(season)\n",
    "        season_list.append(season)\n",
    "        year_season_list.append(year_season)\n",
    "\n",
    "df_style1['year']=year_list\n",
    "df_style1['month']=month_list\n",
    "df_style1['day']=day_list\n",
    "df_style1['season']=season_list\n",
    "df_style1['year_month']=year_month_list\n",
    "df_style1['year_season']=year_season_list\n"
   ]
  },
  {
   "cell_type": "code",
   "execution_count": 41,
   "metadata": {},
   "outputs": [],
   "source": [
    "year_list=[]\n",
    "month_list=[]\n",
    "day_list=[]\n",
    "season_list=[]\n",
    "year_month_list=[]\n",
    "year_season_list=[]\n",
    "for i in df_style2.index:\n",
    "    timestamp = df_style2.loc[i,'time']\n",
    "    date=datetime.fromtimestamp(timestamp)\n",
    "    year_list.append(date.year)\n",
    "    month_list.append(date.month)\n",
    "    if date.month>=10:\n",
    "        year_month=str(date.year)+'-'+str(date.month)\n",
    "    elif 1<=date.month<10:\n",
    "        year_month=str(date.year)+'-'+'0'+str(date.month)\n",
    "    year_month_list.append(year_month)\n",
    "    day_list.append(date.day)\n",
    "    if 3<=date.month<=5:\n",
    "        season=1\n",
    "        year_season=str(date.year)+\"-\"+'0'+str(season)\n",
    "        season_list.append(season)\n",
    "        year_season_list.append(year_season)\n",
    "    elif 6<=date.month<=8:\n",
    "        season=2\n",
    "        year_season=str(date.year)+\"-\"+'0'+str(season)\n",
    "        season_list.append(season)\n",
    "        year_season_list.append(year_season)\n",
    "    elif 9<=date.month<=11:\n",
    "        season=3\n",
    "        year_season=str(date.year)+\"-\"+'0'+str(season)\n",
    "        season_list.append(season)\n",
    "        year_season_list.append(year_season)\n",
    "    elif date.month==12 or date.month==1 or date.month==2:\n",
    "        season=4\n",
    "        year_season=str(date.year)+\"-\"+'0'+str(season)\n",
    "        season_list.append(season)\n",
    "        year_season_list.append(year_season)\n",
    "\n",
    "df_style2['year']=year_list\n",
    "df_style2['month']=month_list\n",
    "df_style2['day']=day_list\n",
    "df_style2['season']=season_list\n",
    "df_style2['year_month']=year_month_list\n",
    "df_style2['year_season']=year_season_list"
   ]
  },
  {
   "cell_type": "code",
   "execution_count": 55,
   "metadata": {},
   "outputs": [],
   "source": [
    "year_list=[]\n",
    "month_list=[]\n",
    "day_list=[]\n",
    "season_list=[]\n",
    "year_month_list=[]\n",
    "year_season_list=[]\n",
    "for i in df_content.index:\n",
    "    timestamp = df_content.loc[i,'time']\n",
    "    date=datetime.fromtimestamp(timestamp)\n",
    "    year_list.append(date.year)\n",
    "    month_list.append(date.month)\n",
    "    if date.month>=10:\n",
    "        year_month=str(date.year)+'-'+str(date.month)\n",
    "    elif 1<=date.month<10:\n",
    "        year_month=str(date.year)+'-'+'0'+str(date.month)\n",
    "    year_month_list.append(year_month)\n",
    "    day_list.append(date.day)\n",
    "    if 3<=date.month<=5:\n",
    "        season=1\n",
    "        year_season=str(date.year)+\"-\"+'0'+str(season)\n",
    "        season_list.append(season)\n",
    "        year_season_list.append(year_season)\n",
    "    elif 6<=date.month<=8:\n",
    "        season=2\n",
    "        year_season=str(date.year)+\"-\"+'0'+str(season)\n",
    "        season_list.append(season)\n",
    "        year_season_list.append(year_season)\n",
    "    elif 9<=date.month<=11:\n",
    "        season=3\n",
    "        year_season=str(date.year)+\"-\"+'0'+str(season)\n",
    "        season_list.append(season)\n",
    "        year_season_list.append(year_season)\n",
    "    elif date.month==12 or date.month==1 or date.month==2:\n",
    "        season=4\n",
    "        year_season=str(date.year)+\"-\"+'0'+str(season)\n",
    "        season_list.append(season)\n",
    "        year_season_list.append(year_season)\n",
    "\n",
    "df_content['year']=year_list\n",
    "df_content['month']=month_list\n",
    "df_content['day']=day_list\n",
    "df_content['season']=season_list\n",
    "df_content['year_month']=year_month_list\n",
    "df_content['year_season']=year_season_list"
   ]
  },
  {
   "cell_type": "code",
   "execution_count": 43,
   "metadata": {},
   "outputs": [],
   "source": [
    "year_list=[]\n",
    "month_list=[]\n",
    "day_list=[]\n",
    "season_list=[]\n",
    "year_month_list=[]\n",
    "year_season_list=[]\n",
    "for i in df_story.index:\n",
    "    timestamp = df_story.loc[i,'time']\n",
    "    date=datetime.fromtimestamp(timestamp)\n",
    "    year_list.append(date.year)\n",
    "    month_list.append(date.month)\n",
    "    if date.month>=10:\n",
    "        year_month=str(date.year)+'-'+str(date.month)\n",
    "    elif 1<=date.month<10:\n",
    "        year_month=str(date.year)+'-'+'0'+str(date.month)\n",
    "    year_month_list.append(year_month)\n",
    "    day_list.append(date.day)\n",
    "    if 3<=date.month<=5:\n",
    "        season=1\n",
    "        year_season=str(date.year)+\"-\"+'0'+str(season)\n",
    "        season_list.append(season)\n",
    "        year_season_list.append(year_season)\n",
    "    elif 6<=date.month<=8:\n",
    "        season=2\n",
    "        year_season=str(date.year)+\"-\"+'0'+str(season)\n",
    "        season_list.append(season)\n",
    "        year_season_list.append(year_season)\n",
    "    elif 9<=date.month<=11:\n",
    "        season=3\n",
    "        year_season=str(date.year)+\"-\"+'0'+str(season)\n",
    "        season_list.append(season)\n",
    "        year_season_list.append(year_season)\n",
    "    elif date.month==12 or date.month==1 or date.month==2:\n",
    "        season=4\n",
    "        year_season=str(date.year)+\"-\"+'0'+str(season)\n",
    "        season_list.append(season)\n",
    "        year_season_list.append(year_season)\n",
    "\n",
    "df_story['year']=year_list\n",
    "df_story['month']=month_list\n",
    "df_story['day']=day_list\n",
    "df_story['season']=season_list\n",
    "df_story['year_month']=year_month_list\n",
    "df_story['year_season']=year_season_list"
   ]
  },
  {
   "cell_type": "code",
   "execution_count": 44,
   "metadata": {},
   "outputs": [],
   "source": [
    "df_style1['weight']=1\n",
    "df_content['weight']=1\n",
    "df_story['weight']=1\n",
    "df_style2['weight']=1"
   ]
  },
  {
   "cell_type": "code",
   "execution_count": 58,
   "metadata": {},
   "outputs": [
    {
     "name": "stdout",
     "output_type": "stream",
     "text": [
      "Index(['origin_id', 'origin_label', 'origin_text', 'generated_text_glm4',\n",
      "       'has_top_img', 'time', 'year', 'month', 'day', 'season', 'year_month',\n",
      "       'year_season', 'weight'],\n",
      "      dtype='object')\n"
     ]
    }
   ],
   "source": [
    "df_content['weight']=1\n",
    "print(df_content.columns)"
   ]
  },
  {
   "cell_type": "code",
   "execution_count": 65,
   "metadata": {},
   "outputs": [],
   "source": [
    "df_content_fake=df_content.copy()\n",
    "df_content_truth = df_content.copy()"
   ]
  },
  {
   "cell_type": "code",
   "execution_count": 66,
   "metadata": {},
   "outputs": [],
   "source": [
    "df_content_fake['label']='rumor'\n",
    "df_content_fake['content']=df_content['generated_text_glm4']\n",
    "\n",
    "df_content_truth['label']='truth'\n",
    "df_content_truth['content']=df_content['origin_text']"
   ]
  },
  {
   "cell_type": "code",
   "execution_count": 67,
   "metadata": {},
   "outputs": [],
   "source": [
    "df_content_all=pd.concat([df_content_fake,df_content_truth])"
   ]
  },
  {
   "cell_type": "code",
   "execution_count": 68,
   "metadata": {},
   "outputs": [
    {
     "name": "stdout",
     "output_type": "stream",
     "text": [
      "                         origin_id origin_label  \\\n",
      "gossipcop-875924  gossipcop-875924   legitimate   \n",
      "gossipcop-857248  gossipcop-857248   legitimate   \n",
      "gossipcop-884684  gossipcop-884684   legitimate   \n",
      "gossipcop-848092  gossipcop-848092   legitimate   \n",
      "gossipcop-926957  gossipcop-926957   legitimate   \n",
      "...                            ...          ...   \n",
      "gossipcop-889584  gossipcop-889584   legitimate   \n",
      "gossipcop-907293  gossipcop-907293   legitimate   \n",
      "gossipcop-891749  gossipcop-891749   legitimate   \n",
      "gossipcop-941486  gossipcop-941486   legitimate   \n",
      "gossipcop-877062  gossipcop-877062   legitimate   \n",
      "\n",
      "                                                        origin_text  \\\n",
      "gossipcop-875924  Kylie Jenner reportedly doesn't want to talk a...   \n",
      "gossipcop-857248  From there, you transition to the leg press ma...   \n",
      "gossipcop-884684  CNN —\\n\\nAn emotional Celine Dion returned to ...   \n",
      "gossipcop-848092  I’m sorry, Aunt Lydia, but The Handmaid’s Tale...   \n",
      "gossipcop-926957  Guess what show is back? If you guessed Game o...   \n",
      "...                                                             ...   \n",
      "gossipcop-889584  Lovatics will get the chance to tell Demi Lova...   \n",
      "gossipcop-907293  Gigi & Zayn Gave Us the Best Idea For a Valent...   \n",
      "gossipcop-891749  2017 Hollywood Film Awards ceremony took place...   \n",
      "gossipcop-941486  Jada Pinkett Smith recalled that heartbreaking...   \n",
      "gossipcop-877062  After last week's shock announcement that Kyli...   \n",
      "\n",
      "                                                generated_text_glm4  \\\n",
      "gossipcop-875924  Kylie Jenner is said to avoid discussing her r...   \n",
      "gossipcop-857248  Upon advancing to the leg extension equipment,...   \n",
      "gossipcop-884684  [CNN —\\n\\nIn a poignant move, Celine Dion resu...   \n",
      "gossipcop-848092  [It's confirmed, Uncle Leo, The Century's Stor...   \n",
      "gossipcop-926957  Guess which series is making a return? If you ...   \n",
      "...                                                             ...   \n",
      "gossipcop-889584  Fans will have the opportunity to express thei...   \n",
      "gossipcop-907293  [Gigi & Zayn Suggest a Creative Valentine’s Da...   \n",
      "gossipcop-891749  The 2018 Hollywood Film Awards were conducted ...   \n",
      "gossipcop-941486  [Jada Pinkett Smith reminisced about the emoti...   \n",
      "gossipcop-877062  [Following last month's surprising revelation ...   \n",
      "\n",
      "                 has_top_img          time  year  month  day  season  \\\n",
      "gossipcop-875924           0  1.499290e+09  2017      7    6       2   \n",
      "gossipcop-857248           0  1.521389e+09  2018      3   19       1   \n",
      "gossipcop-884684           0  1.507046e+09  2017     10    4       3   \n",
      "gossipcop-848092           0  1.525190e+09  2018      5    2       1   \n",
      "gossipcop-926957           0  1.528646e+09  2018      6   11       2   \n",
      "...                      ...           ...   ...    ...  ...     ...   \n",
      "gossipcop-889584           0  1.509047e+09  2017     10   27       3   \n",
      "gossipcop-907293           0  1.485441e+09  2017      1   26       4   \n",
      "gossipcop-891749           0  1.509974e+09  2017     11    6       3   \n",
      "gossipcop-941486           0  1.528042e+09  2018      6    4       2   \n",
      "gossipcop-877062           0  1.518258e+09  2018      2   10       4   \n",
      "\n",
      "                 year_month year_season  weight  label  \\\n",
      "gossipcop-875924    2017-07     2017-02       1  rumor   \n",
      "gossipcop-857248    2018-03     2018-01       1  rumor   \n",
      "gossipcop-884684    2017-10     2017-03       1  rumor   \n",
      "gossipcop-848092    2018-05     2018-01       1  rumor   \n",
      "gossipcop-926957    2018-06     2018-02       1  rumor   \n",
      "...                     ...         ...     ...    ...   \n",
      "gossipcop-889584    2017-10     2017-03       1  truth   \n",
      "gossipcop-907293    2017-01     2017-04       1  truth   \n",
      "gossipcop-891749    2017-11     2017-03       1  truth   \n",
      "gossipcop-941486    2018-06     2018-02       1  truth   \n",
      "gossipcop-877062    2018-02     2018-04       1  truth   \n",
      "\n",
      "                                                            content  \n",
      "gossipcop-875924  Kylie Jenner is said to avoid discussing her r...  \n",
      "gossipcop-857248  Upon advancing to the leg extension equipment,...  \n",
      "gossipcop-884684  [CNN —\\n\\nIn a poignant move, Celine Dion resu...  \n",
      "gossipcop-848092  [It's confirmed, Uncle Leo, The Century's Stor...  \n",
      "gossipcop-926957  Guess which series is making a return? If you ...  \n",
      "...                                                             ...  \n",
      "gossipcop-889584  Lovatics will get the chance to tell Demi Lova...  \n",
      "gossipcop-907293  Gigi & Zayn Gave Us the Best Idea For a Valent...  \n",
      "gossipcop-891749  2017 Hollywood Film Awards ceremony took place...  \n",
      "gossipcop-941486  Jada Pinkett Smith recalled that heartbreaking...  \n",
      "gossipcop-877062  After last week's shock announcement that Kyli...  \n",
      "\n",
      "[15542 rows x 15 columns]\n"
     ]
    }
   ],
   "source": [
    "print(df_content_all)"
   ]
  },
  {
   "cell_type": "code",
   "execution_count": 45,
   "metadata": {},
   "outputs": [
    {
     "name": "stdout",
     "output_type": "stream",
     "text": [
      "Index(['origin_id', 'origin_label', 'origin_text', 'generated_text',\n",
      "       'generated_tone', 'generated_label', 'has_top_img', 'time', 'year',\n",
      "       'month', 'day', 'season', 'year_month', 'year_season', 'weight'],\n",
      "      dtype='object')\n",
      "Index(['origin_id', 'origin_label', 'origin_text', 'generated_label',\n",
      "       'generated_text_t015', 'has_top_img', 'time', 'year', 'month', 'day',\n",
      "       'season', 'year_month', 'year_season', 'weight'],\n",
      "      dtype='object')\n",
      "Index(['origin_id', 'origin_label', 'origin_text', 'origin_title',\n",
      "       'generated_text', 'has_top_img', 'time', 'year', 'month', 'day',\n",
      "       'season', 'year_month', 'year_season', 'weight'],\n",
      "      dtype='object')\n",
      "Index(['origin_id', 'origin_label', 'origin_text', 'generated_text_glm4',\n",
      "       'has_top_img', 'time', 'year', 'month', 'day', 'season', 'year_month',\n",
      "       'year_season', 'weight'],\n",
      "      dtype='object')\n"
     ]
    }
   ],
   "source": [
    "print(df_style1.columns)\n",
    "print(df_style2.columns)\n",
    "print(df_story.columns)\n",
    "print(df_content.columns)"
   ]
  },
  {
   "cell_type": "code",
   "execution_count": 46,
   "metadata": {},
   "outputs": [],
   "source": [
    "df_style1=df_style1.rename(columns={'generated_text':'content','generated_label':'label'})\n",
    "df_style2=df_style2.rename(columns={'generated_text_t015':'content','generated_label':'label'})\n",
    "df_style1['label'] = df_style1['label'].replace('fake', 'rumor')\n",
    "df_style2['label'] = df_style2['label'].replace('fake', 'rumor')\n",
    "df_style1['label'] = df_style1['label'].replace('legitimate', 'truth')\n",
    "df_style2['label'] = df_style2['label'].replace('legitimate', 'truth')\n",
    "df_story=df_story.rename(columns={'generated_text':'content'})\n",
    "df_content=df_content.rename(columns={'generated_text_glm4':'content'})\n",
    "df_story['label']='rumor'\n",
    "df_content['label']='rumor'"
   ]
  },
  {
   "cell_type": "code",
   "execution_count": 47,
   "metadata": {},
   "outputs": [
    {
     "ename": "KeyError",
     "evalue": "\"['generated_tone'] not found in axis\"",
     "output_type": "error",
     "traceback": [
      "\u001b[1;31m---------------------------------------------------------------------------\u001b[0m",
      "\u001b[1;31mKeyError\u001b[0m                                  Traceback (most recent call last)",
      "Cell \u001b[1;32mIn[47], line 2\u001b[0m\n\u001b[0;32m      1\u001b[0m df_style1 \u001b[38;5;241m=\u001b[39m df_style1\u001b[38;5;241m.\u001b[39mdrop([\u001b[38;5;124m'\u001b[39m\u001b[38;5;124mgenerated_tone\u001b[39m\u001b[38;5;124m'\u001b[39m], axis\u001b[38;5;241m=\u001b[39m\u001b[38;5;241m1\u001b[39m)\n\u001b[1;32m----> 2\u001b[0m df_style2 \u001b[38;5;241m=\u001b[39m \u001b[43mdf_style2\u001b[49m\u001b[38;5;241;43m.\u001b[39;49m\u001b[43mdrop\u001b[49m\u001b[43m(\u001b[49m\u001b[43m[\u001b[49m\u001b[38;5;124;43m'\u001b[39;49m\u001b[38;5;124;43mgenerated_tone\u001b[39;49m\u001b[38;5;124;43m'\u001b[39;49m\u001b[43m]\u001b[49m\u001b[43m,\u001b[49m\u001b[43m \u001b[49m\u001b[43maxis\u001b[49m\u001b[38;5;241;43m=\u001b[39;49m\u001b[38;5;241;43m1\u001b[39;49m\u001b[43m)\u001b[49m\n",
      "File \u001b[1;32md:\\software\\Lib\\site-packages\\pandas\\core\\frame.py:5347\u001b[0m, in \u001b[0;36mDataFrame.drop\u001b[1;34m(self, labels, axis, index, columns, level, inplace, errors)\u001b[0m\n\u001b[0;32m   5199\u001b[0m \u001b[38;5;28;01mdef\u001b[39;00m \u001b[38;5;21mdrop\u001b[39m(\n\u001b[0;32m   5200\u001b[0m     \u001b[38;5;28mself\u001b[39m,\n\u001b[0;32m   5201\u001b[0m     labels: IndexLabel \u001b[38;5;241m|\u001b[39m \u001b[38;5;28;01mNone\u001b[39;00m \u001b[38;5;241m=\u001b[39m \u001b[38;5;28;01mNone\u001b[39;00m,\n\u001b[1;32m   (...)\u001b[0m\n\u001b[0;32m   5208\u001b[0m     errors: IgnoreRaise \u001b[38;5;241m=\u001b[39m \u001b[38;5;124m\"\u001b[39m\u001b[38;5;124mraise\u001b[39m\u001b[38;5;124m\"\u001b[39m,\n\u001b[0;32m   5209\u001b[0m ) \u001b[38;5;241m-\u001b[39m\u001b[38;5;241m>\u001b[39m DataFrame \u001b[38;5;241m|\u001b[39m \u001b[38;5;28;01mNone\u001b[39;00m:\n\u001b[0;32m   5210\u001b[0m \u001b[38;5;250m    \u001b[39m\u001b[38;5;124;03m\"\"\"\u001b[39;00m\n\u001b[0;32m   5211\u001b[0m \u001b[38;5;124;03m    Drop specified labels from rows or columns.\u001b[39;00m\n\u001b[0;32m   5212\u001b[0m \n\u001b[1;32m   (...)\u001b[0m\n\u001b[0;32m   5345\u001b[0m \u001b[38;5;124;03m            weight  1.0     0.8\u001b[39;00m\n\u001b[0;32m   5346\u001b[0m \u001b[38;5;124;03m    \"\"\"\u001b[39;00m\n\u001b[1;32m-> 5347\u001b[0m     \u001b[38;5;28;01mreturn\u001b[39;00m \u001b[38;5;28;43msuper\u001b[39;49m\u001b[43m(\u001b[49m\u001b[43m)\u001b[49m\u001b[38;5;241;43m.\u001b[39;49m\u001b[43mdrop\u001b[49m\u001b[43m(\u001b[49m\n\u001b[0;32m   5348\u001b[0m \u001b[43m        \u001b[49m\u001b[43mlabels\u001b[49m\u001b[38;5;241;43m=\u001b[39;49m\u001b[43mlabels\u001b[49m\u001b[43m,\u001b[49m\n\u001b[0;32m   5349\u001b[0m \u001b[43m        \u001b[49m\u001b[43maxis\u001b[49m\u001b[38;5;241;43m=\u001b[39;49m\u001b[43maxis\u001b[49m\u001b[43m,\u001b[49m\n\u001b[0;32m   5350\u001b[0m \u001b[43m        \u001b[49m\u001b[43mindex\u001b[49m\u001b[38;5;241;43m=\u001b[39;49m\u001b[43mindex\u001b[49m\u001b[43m,\u001b[49m\n\u001b[0;32m   5351\u001b[0m \u001b[43m        \u001b[49m\u001b[43mcolumns\u001b[49m\u001b[38;5;241;43m=\u001b[39;49m\u001b[43mcolumns\u001b[49m\u001b[43m,\u001b[49m\n\u001b[0;32m   5352\u001b[0m \u001b[43m        \u001b[49m\u001b[43mlevel\u001b[49m\u001b[38;5;241;43m=\u001b[39;49m\u001b[43mlevel\u001b[49m\u001b[43m,\u001b[49m\n\u001b[0;32m   5353\u001b[0m \u001b[43m        \u001b[49m\u001b[43minplace\u001b[49m\u001b[38;5;241;43m=\u001b[39;49m\u001b[43minplace\u001b[49m\u001b[43m,\u001b[49m\n\u001b[0;32m   5354\u001b[0m \u001b[43m        \u001b[49m\u001b[43merrors\u001b[49m\u001b[38;5;241;43m=\u001b[39;49m\u001b[43merrors\u001b[49m\u001b[43m,\u001b[49m\n\u001b[0;32m   5355\u001b[0m \u001b[43m    \u001b[49m\u001b[43m)\u001b[49m\n",
      "File \u001b[1;32md:\\software\\Lib\\site-packages\\pandas\\core\\generic.py:4711\u001b[0m, in \u001b[0;36mNDFrame.drop\u001b[1;34m(self, labels, axis, index, columns, level, inplace, errors)\u001b[0m\n\u001b[0;32m   4709\u001b[0m \u001b[38;5;28;01mfor\u001b[39;00m axis, labels \u001b[38;5;129;01min\u001b[39;00m axes\u001b[38;5;241m.\u001b[39mitems():\n\u001b[0;32m   4710\u001b[0m     \u001b[38;5;28;01mif\u001b[39;00m labels \u001b[38;5;129;01mis\u001b[39;00m \u001b[38;5;129;01mnot\u001b[39;00m \u001b[38;5;28;01mNone\u001b[39;00m:\n\u001b[1;32m-> 4711\u001b[0m         obj \u001b[38;5;241m=\u001b[39m \u001b[43mobj\u001b[49m\u001b[38;5;241;43m.\u001b[39;49m\u001b[43m_drop_axis\u001b[49m\u001b[43m(\u001b[49m\u001b[43mlabels\u001b[49m\u001b[43m,\u001b[49m\u001b[43m \u001b[49m\u001b[43maxis\u001b[49m\u001b[43m,\u001b[49m\u001b[43m \u001b[49m\u001b[43mlevel\u001b[49m\u001b[38;5;241;43m=\u001b[39;49m\u001b[43mlevel\u001b[49m\u001b[43m,\u001b[49m\u001b[43m \u001b[49m\u001b[43merrors\u001b[49m\u001b[38;5;241;43m=\u001b[39;49m\u001b[43merrors\u001b[49m\u001b[43m)\u001b[49m\n\u001b[0;32m   4713\u001b[0m \u001b[38;5;28;01mif\u001b[39;00m inplace:\n\u001b[0;32m   4714\u001b[0m     \u001b[38;5;28mself\u001b[39m\u001b[38;5;241m.\u001b[39m_update_inplace(obj)\n",
      "File \u001b[1;32md:\\software\\Lib\\site-packages\\pandas\\core\\generic.py:4753\u001b[0m, in \u001b[0;36mNDFrame._drop_axis\u001b[1;34m(self, labels, axis, level, errors, only_slice)\u001b[0m\n\u001b[0;32m   4751\u001b[0m         new_axis \u001b[38;5;241m=\u001b[39m axis\u001b[38;5;241m.\u001b[39mdrop(labels, level\u001b[38;5;241m=\u001b[39mlevel, errors\u001b[38;5;241m=\u001b[39merrors)\n\u001b[0;32m   4752\u001b[0m     \u001b[38;5;28;01melse\u001b[39;00m:\n\u001b[1;32m-> 4753\u001b[0m         new_axis \u001b[38;5;241m=\u001b[39m \u001b[43maxis\u001b[49m\u001b[38;5;241;43m.\u001b[39;49m\u001b[43mdrop\u001b[49m\u001b[43m(\u001b[49m\u001b[43mlabels\u001b[49m\u001b[43m,\u001b[49m\u001b[43m \u001b[49m\u001b[43merrors\u001b[49m\u001b[38;5;241;43m=\u001b[39;49m\u001b[43merrors\u001b[49m\u001b[43m)\u001b[49m\n\u001b[0;32m   4754\u001b[0m     indexer \u001b[38;5;241m=\u001b[39m axis\u001b[38;5;241m.\u001b[39mget_indexer(new_axis)\n\u001b[0;32m   4756\u001b[0m \u001b[38;5;66;03m# Case for non-unique axis\u001b[39;00m\n\u001b[0;32m   4757\u001b[0m \u001b[38;5;28;01melse\u001b[39;00m:\n",
      "File \u001b[1;32md:\\software\\Lib\\site-packages\\pandas\\core\\indexes\\base.py:6992\u001b[0m, in \u001b[0;36mIndex.drop\u001b[1;34m(self, labels, errors)\u001b[0m\n\u001b[0;32m   6990\u001b[0m \u001b[38;5;28;01mif\u001b[39;00m mask\u001b[38;5;241m.\u001b[39many():\n\u001b[0;32m   6991\u001b[0m     \u001b[38;5;28;01mif\u001b[39;00m errors \u001b[38;5;241m!=\u001b[39m \u001b[38;5;124m\"\u001b[39m\u001b[38;5;124mignore\u001b[39m\u001b[38;5;124m\"\u001b[39m:\n\u001b[1;32m-> 6992\u001b[0m         \u001b[38;5;28;01mraise\u001b[39;00m \u001b[38;5;167;01mKeyError\u001b[39;00m(\u001b[38;5;124mf\u001b[39m\u001b[38;5;124m\"\u001b[39m\u001b[38;5;132;01m{\u001b[39;00mlabels[mask]\u001b[38;5;241m.\u001b[39mtolist()\u001b[38;5;132;01m}\u001b[39;00m\u001b[38;5;124m not found in axis\u001b[39m\u001b[38;5;124m\"\u001b[39m)\n\u001b[0;32m   6993\u001b[0m     indexer \u001b[38;5;241m=\u001b[39m indexer[\u001b[38;5;241m~\u001b[39mmask]\n\u001b[0;32m   6994\u001b[0m \u001b[38;5;28;01mreturn\u001b[39;00m \u001b[38;5;28mself\u001b[39m\u001b[38;5;241m.\u001b[39mdelete(indexer)\n",
      "\u001b[1;31mKeyError\u001b[0m: \"['generated_tone'] not found in axis\""
     ]
    }
   ],
   "source": [
    "df_style1 = df_style1.drop(['generated_tone'], axis=1)\n",
    "df_style2 = df_style2.drop(['generated_tone'], axis=1)"
   ]
  },
  {
   "cell_type": "code",
   "execution_count": null,
   "metadata": {},
   "outputs": [
    {
     "name": "stdout",
     "output_type": "stream",
     "text": [
      "Index(['origin_id', 'origin_label', 'origin_text', 'content', 'generated_tone',\n",
      "       'generated_label', 'has_top_img', 'time', 'year', 'month', 'day',\n",
      "       'season', 'year_month', 'year_season', 'weight'],\n",
      "      dtype='object')\n",
      "Index(['origin_id', 'origin_label', 'origin_text', 'generated_label',\n",
      "       'content', 'has_top_img', 'time', 'year', 'month', 'day', 'season',\n",
      "       'year_month', 'year_season', 'weight'],\n",
      "      dtype='object')\n",
      "Index(['origin_id', 'origin_label', 'origin_text', 'origin_title', 'content',\n",
      "       'has_top_img', 'time', 'year', 'month', 'day', 'season', 'year_month',\n",
      "       'year_season', 'weight'],\n",
      "      dtype='object')\n",
      "Index(['origin_id', 'origin_label', 'origin_text', 'content', 'has_top_img',\n",
      "       'time', 'year', 'month', 'day', 'season', 'year_month', 'year_season',\n",
      "       'weight'],\n",
      "      dtype='object')\n"
     ]
    }
   ],
   "source": [
    "print(df_style1.columns)\n",
    "print(df_style2.columns)\n",
    "print(df_story.columns)\n",
    "print(df_content.columns)"
   ]
  },
  {
   "cell_type": "code",
   "execution_count": null,
   "metadata": {},
   "outputs": [],
   "source": [
    "records = df_style1.to_dict(orient='records')\n",
    "file_path = 'style1.json'\n",
    "with open(file_path, 'w',encoding='utf-8') as f:\n",
    "    json.dump(records, f, ensure_ascii=False, indent=2)"
   ]
  },
  {
   "cell_type": "code",
   "execution_count": null,
   "metadata": {},
   "outputs": [],
   "source": [
    "records = df_style2.to_dict(orient='records')\n",
    "file_path = 'style2.json'\n",
    "with open(file_path, 'w',encoding='utf-8') as f:\n",
    "    json.dump(records, f, ensure_ascii=False, indent=2)"
   ]
  },
  {
   "cell_type": "code",
   "execution_count": 69,
   "metadata": {},
   "outputs": [],
   "source": [
    "records = df_content_all.to_dict(orient='records')\n",
    "file_path = 'content.json'\n",
    "with open(file_path, 'w',encoding='utf-8') as f:\n",
    "    json.dump(records, f, ensure_ascii=False, indent=2)"
   ]
  },
  {
   "cell_type": "code",
   "execution_count": null,
   "metadata": {},
   "outputs": [],
   "source": [
    "records = df_story.to_dict(orient='records')\n",
    "file_path = 'story.json'\n",
    "with open(file_path, 'w',encoding='utf-8') as f:\n",
    "    json.dump(records, f, ensure_ascii=False, indent=2)"
   ]
  },
  {
   "cell_type": "code",
   "execution_count": null,
   "metadata": {},
   "outputs": [
    {
     "name": "stdout",
     "output_type": "stream",
     "text": [
      "                                 origin_id origin_label  \\\n",
      "gossipcop-2493749932  gossipcop-2493749932         fake   \n",
      "gossipcop-4580247171  gossipcop-4580247171         fake   \n",
      "gossipcop-941805037    gossipcop-941805037         fake   \n",
      "gossipcop-2547891536  gossipcop-2547891536         fake   \n",
      "gossipcop-5189580095  gossipcop-5189580095         fake   \n",
      "...                                    ...          ...   \n",
      "gossipcop-889584          gossipcop-889584   legitimate   \n",
      "gossipcop-907293          gossipcop-907293   legitimate   \n",
      "gossipcop-891749          gossipcop-891749   legitimate   \n",
      "gossipcop-941486          gossipcop-941486   legitimate   \n",
      "gossipcop-877062          gossipcop-877062   legitimate   \n",
      "\n",
      "                                                            origin_text  \\\n",
      "gossipcop-2493749932  Congratulations might be in order for Miley Cy...   \n",
      "gossipcop-4580247171  Paris Jackson and Cara Delevingne were spotted...   \n",
      "gossipcop-941805037   Thousands are taking the streets to protest Pr...   \n",
      "gossipcop-2547891536  We'd venture to say that Cindy Crawford's daug...   \n",
      "gossipcop-5189580095  During the summer of 1995, John F. Kennedy Jr....   \n",
      "...                                                                 ...   \n",
      "gossipcop-889584      Lovatics will get the chance to tell Demi Lova...   \n",
      "gossipcop-907293      Gigi & Zayn Gave Us the Best Idea For a Valent...   \n",
      "gossipcop-891749      2017 Hollywood Film Awards ceremony took place...   \n",
      "gossipcop-941486      Jada Pinkett Smith recalled that heartbreaking...   \n",
      "gossipcop-877062      After last week's shock announcement that Kyli...   \n",
      "\n",
      "                                                           origin_title  \\\n",
      "gossipcop-2493749932  Did Miley Cyrus and Liam Hemsworth secretly ge...   \n",
      "gossipcop-4580247171  Paris Jackson & Cara Delevingne Enjoy Night Ou...   \n",
      "gossipcop-941805037   Celebrities Join Tax March in Protest of Donal...   \n",
      "gossipcop-2547891536  Cindy Crawford's daughter Kaia Gerber wears a ...   \n",
      "gossipcop-5189580095  Here's What Really Happened When JFK Jr. Met P...   \n",
      "...                                                                 ...   \n",
      "gossipcop-889584      Demi Lovato Announces 2018 North American Tour...   \n",
      "gossipcop-907293      Gigi & Zayn Gave Us the Best Idea For a Valent...   \n",
      "gossipcop-891749      2017 Hollywood Film Awards: The Complete List ...   \n",
      "gossipcop-941486      Jada Pinkett Smith explains why son Jaden move...   \n",
      "gossipcop-877062      Kylie Jenner is actually terrified of butterflies   \n",
      "\n",
      "                                                                content  \\\n",
      "gossipcop-2493749932  Miley Cyrus and Liam Hemsworth have been rumor...   \n",
      "gossipcop-4580247171  Paris Jackson and Cara Delevingne were seen en...   \n",
      "gossipcop-941805037   \"Celebrities Join Tax March in Protest of Dona...   \n",
      "gossipcop-2547891536  Cindy Crawford's daughter Kaia Gerber was seen...   \n",
      "gossipcop-5189580095  In a surprising turn of events, JFK Jr. had a ...   \n",
      "...                                                                 ...   \n",
      "gossipcop-889584      Demi Lovato Announces 2018 North American Tour...   \n",
      "gossipcop-907293      \"Valentine's Day is just around the corner, an...   \n",
      "gossipcop-891749      The 2017 Hollywood Film Awards ceremony, honor...   \n",
      "gossipcop-941486      Jada Pinkett Smith, the actress and talk show ...   \n",
      "gossipcop-877062      Kylie Jenner, the 24-year-old reality TV star ...   \n",
      "\n",
      "                     has_top_img          time  year  month  day  season  \\\n",
      "gossipcop-2493749932           0  1.529680e+09  2018      6   22       2   \n",
      "gossipcop-4580247171           0  1.525450e+09  2018      5    5       1   \n",
      "gossipcop-941805037            0  1.492292e+09  2017      4   16       1   \n",
      "gossipcop-2547891536           0  1.458333e+09  2016      3   19       1   \n",
      "gossipcop-5189580095           0  1.498769e+09  2017      6   30       2   \n",
      "...                          ...           ...   ...    ...  ...     ...   \n",
      "gossipcop-889584               0  1.509047e+09  2017     10   27       3   \n",
      "gossipcop-907293               0  1.485441e+09  2017      1   26       4   \n",
      "gossipcop-891749               0  1.509974e+09  2017     11    6       3   \n",
      "gossipcop-941486               0  1.528042e+09  2018      6    4       2   \n",
      "gossipcop-877062               0  1.518258e+09  2018      2   10       4   \n",
      "\n",
      "                     year_month year_season  weight  label  \n",
      "gossipcop-2493749932    2018-06     2018-02       1  rumor  \n",
      "gossipcop-4580247171    2018-05     2018-01       1  rumor  \n",
      "gossipcop-941805037     2017-04     2017-01       1  rumor  \n",
      "gossipcop-2547891536    2016-03     2016-01       1  rumor  \n",
      "gossipcop-5189580095    2017-06     2017-02       1  rumor  \n",
      "...                         ...         ...     ...    ...  \n",
      "gossipcop-889584        2017-10     2017-03       1  rumor  \n",
      "gossipcop-907293        2017-01     2017-04       1  rumor  \n",
      "gossipcop-891749        2017-11     2017-03       1  rumor  \n",
      "gossipcop-941486        2018-06     2018-02       1  rumor  \n",
      "gossipcop-877062        2018-02     2018-04       1  rumor  \n",
      "\n",
      "[10631 rows x 15 columns]\n"
     ]
    }
   ],
   "source": [
    "print(df_story)"
   ]
  }
 ],
 "metadata": {
  "kernelspec": {
   "display_name": "Python 3",
   "language": "python",
   "name": "python3"
  },
  "language_info": {
   "codemirror_mode": {
    "name": "ipython",
    "version": 3
   },
   "file_extension": ".py",
   "mimetype": "text/x-python",
   "name": "python",
   "nbconvert_exporter": "python",
   "pygments_lexer": "ipython3",
   "version": "3.11.0"
  }
 },
 "nbformat": 4,
 "nbformat_minor": 2
}
