{
 "cells": [
  {
   "cell_type": "code",
   "execution_count": 1,
   "metadata": {},
   "outputs": [],
   "source": [
    "import numpy as np\n",
    "import pandas as pd\n",
    "import json"
   ]
  },
  {
   "cell_type": "code",
   "execution_count": 8,
   "metadata": {},
   "outputs": [
    {
     "name": "stdout",
     "output_type": "stream",
     "text": [
      "0        rumor\n",
      "1        rumor\n",
      "2        rumor\n",
      "3        rumor\n",
      "4        rumor\n",
      "         ...  \n",
      "15537    truth\n",
      "15538    truth\n",
      "15539    truth\n",
      "15540    truth\n",
      "15541    truth\n",
      "Name: label, Length: 15542, dtype: object\n"
     ]
    }
   ],
   "source": [
    "with open('content.json', 'r',encoding='utf-8') as f:\n",
    "    data_origin = json.load(f)\n",
    "\n",
    "df=pd.DataFrame(data_origin)\n",
    "print(df['label'])"
   ]
  },
  {
   "cell_type": "code",
   "execution_count": 13,
   "metadata": {},
   "outputs": [
    {
     "name": "stdout",
     "output_type": "stream",
     "text": [
      "0       truth\n",
      "1       truth\n",
      "2       truth\n",
      "3       truth\n",
      "4       truth\n",
      "        ...  \n",
      "7766    truth\n",
      "7767    truth\n",
      "7768    truth\n",
      "7769    truth\n",
      "7770    truth\n",
      "Name: label, Length: 7771, dtype: object\n"
     ]
    }
   ],
   "source": [
    "df_content_truth = df[df['label']=='truth'].copy().reset_index(drop=True)\n",
    "df_content_rumor = df[df['label']=='rumor'].copy().reset_index(drop=True)\n",
    "print(df_content_truth['label'])"
   ]
  },
  {
   "cell_type": "code",
   "execution_count": 11,
   "metadata": {},
   "outputs": [],
   "source": [
    "records = df_content_truth.to_dict(orient='records')\n",
    "file_path = 'content_truth.json'\n",
    "with open(file_path, 'w',encoding='utf-8') as f:\n",
    "    json.dump(records, f, ensure_ascii=False, indent=2)"
   ]
  },
  {
   "cell_type": "code",
   "execution_count": 14,
   "metadata": {},
   "outputs": [],
   "source": [
    "records = df_content_rumor.to_dict(orient='records')\n",
    "file_path = 'content_rumor.json'\n",
    "with open(file_path, 'w',encoding='utf-8') as f:\n",
    "    json.dump(records, f, ensure_ascii=False, indent=2)"
   ]
  },
  {
   "cell_type": "code",
   "execution_count": null,
   "metadata": {},
   "outputs": [],
   "source": []
  }
 ],
 "metadata": {
  "kernelspec": {
   "display_name": "Python 3",
   "language": "python",
   "name": "python3"
  },
  "language_info": {
   "codemirror_mode": {
    "name": "ipython",
    "version": 3
   },
   "file_extension": ".py",
   "mimetype": "text/x-python",
   "name": "python",
   "nbconvert_exporter": "python",
   "pygments_lexer": "ipython3",
   "version": "3.11.0"
  }
 },
 "nbformat": 4,
 "nbformat_minor": 2
}
